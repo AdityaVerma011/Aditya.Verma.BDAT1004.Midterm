{
 "cells": [
  {
   "cell_type": "markdown",
   "id": "02f5dc87",
   "metadata": {},
   "source": [
    "## Question 21\n",
    "\n",
    "_int()_: Constructor that takes as input a pair of Point objects that represent the ends points of the line segment\n",
    "\n",
    "Length():: returns the length if the segment \n",
    "\n",
    "Slope() returns the slope of the segment of none if the slope is unbounded \n",
    "\n",
    " \n",
    "\n",
    ">>> p1 = Point(3,4)\n",
    "\n",
    ">>> p2 = Point()\n",
    "\n",
    ">>> s = Segment(p1,p2)\n",
    "\n",
    ">>> s.length()\n",
    "\n",
    "5.0\n",
    "\n",
    ">>> s.slope()\n",
    "\n",
    "0.75"
   ]
  },
  {
   "cell_type": "code",
   "execution_count": 27,
   "id": "2adf44f6",
   "metadata": {},
   "outputs": [
    {
     "name": "stdout",
     "output_type": "stream",
     "text": [
      "5.0\n",
      "0.75\n"
     ]
    }
   ],
   "source": [
    "import math\n",
    "\n",
    "class Point:\n",
    "    def __init__(self, x=0, y=0):\n",
    "        self.x = x\n",
    "        self.y = y\n",
    "\n",
    "class Segment:\n",
    "    def __init__(self, p1, p2):\n",
    "        self.p1 = p1  \n",
    "        self.p2 = p2  \n",
    "\n",
    "    # Calculate and return the length of the line segment\n",
    "    def length(self):\n",
    "        return ((self.p2.x - self.p1.x) ** 2 + (self.p2.y - self.p1.y) ** 2) ** 0.5\n",
    "\n",
    "    def slope(self):\n",
    "        return \"undefined\" if self.p2.x - self.p1.x == 0 else (self.p2.y - self.p1.y) / (self.p2.x - self.p1.x)\n",
    "\n",
    "# Example usage:\n",
    "p1 = Point(4,3)\n",
    "p2 = Point() \n",
    "\n",
    "s = Segment(p1, p2)\n",
    "\n",
    "print(s.length())  # Output: 5.0\n",
    "print(s.slope())   # Output: 0.75\n"
   ]
  },
  {
   "cell_type": "markdown",
   "id": "375b1880",
   "metadata": {},
   "source": [
    "## Question 22\n",
    "\n",
    "+---------------+---------+\n",
    "| Column Name   | Type    |\n",
    "+---------------+---------+\n",
    "| id            | int     |\n",
    "| recordDate    | date    |\n",
    "| temperature   | int     |\n",
    "+---------------+---------+\n",
    "id is the column with unique values for this table.\n",
    "This table contains information about the temperature on a certain day.\n",
    " \n",
    " \n",
    "\n",
    "Write a solution to find all dates' Id with higher temperatures compared to its previous dates (yesterday).\n",
    "\n",
    "Return the result table in any order.\n",
    "\n",
    "Please use the following input Weather table for your solution. To receive full marks you will need to create the database, create the table, insert the data below and execute the SQL query.\n",
    "\n",
    " \n",
    "\n",
    "Input: \n",
    "Weather table:\n",
    "+----+------------+-------------+\n",
    "| id | recordDate | temperature |\n",
    "+----+------------+-------------+\n",
    "| 1  | 2015-01-01 | 10          |\n",
    "| 2  | 2015-01-02 | 25          |\n",
    "| 3  | 2015-01-03 | 20          |\n",
    "| 4  | 2015-01-04 | 30          |\n",
    "+----+------------+-------------+\n",
    "Output: \n",
    "+----+\n",
    "| id |\n",
    "+----+\n",
    "| 2  |\n",
    "| 4  |\n",
    "+----+\n",
    "Explanation: \n",
    "In 2015-01-02, the temperature was higher than the previous day (10 -> 25).\n",
    "In 2015-01-04, the temperature was higher than the previous day (20 -> 30)."
   ]
  },
  {
   "cell_type": "code",
   "execution_count": 26,
   "id": "e95fef2d",
   "metadata": {},
   "outputs": [
    {
     "name": "stdout",
     "output_type": "stream",
     "text": [
      "2\n",
      "4\n"
     ]
    }
   ],
   "source": [
    "import sqlite3\n",
    "\n",
    "def create_weather_table(cur):\n",
    "    cur.execute(\"\"\"\n",
    "    CREATE TABLE IF NOT EXISTS Weather (\n",
    "        id INTEGER PRIMARY KEY,\n",
    "        recordDate DATE,\n",
    "        temperature INTEGER\n",
    "    )\n",
    "    \"\"\")\n",
    "\n",
    "def insert_weather_data(cur, data):\n",
    "    cur.executemany(\"INSERT OR IGNORE INTO Weather (id, recordDate, temperature) VALUES (?, ?, ?)\", data)\n",
    "\n",
    "def find_higher_temperatures(cur):\n",
    "    cur.execute('''\n",
    "        SELECT wT1.id\n",
    "        FROM Weather wT1\n",
    "        JOIN Weather wT2\n",
    "        ON wT1.recordDate = DATE(wT2.recordDate, '+1 day')\n",
    "        WHERE wT1.temperature > wT2.temperature\n",
    "    ''')\n",
    "    return cur.fetchall()\n",
    "\n",
    "conn = sqlite3.connect(\"web.db\")\n",
    "\n",
    "# Create a cursor object\n",
    "cur = conn.cursor()\n",
    "\n",
    "# Create the Weather table if not exists\n",
    "create_weather_table(cur)\n",
    "\n",
    "# Data to be inserted\n",
    "data = [\n",
    "    (1, '2015-01-01', 10),\n",
    "    (2, '2015-01-02', 25),\n",
    "    (3, '2015-01-03', 20),\n",
    "    (4, '2015-01-04', 30)\n",
    "]\n",
    "\n",
    "# Insert data using executemany with INSERT OR IGNORE\n",
    "insert_weather_data(cur, data)\n",
    "\n",
    "# Commit the changes to the database\n",
    "conn.commit()\n",
    "\n",
    "result = find_higher_temperatures(cur)\n",
    "\n",
    "# Fetch and print the results\n",
    "for row in result:\n",
    "    print(row[0])\n",
    "\n",
    "cur.close()\n",
    "conn.close()\n"
   ]
  },
  {
   "cell_type": "markdown",
   "id": "0a145888",
   "metadata": {},
   "source": [
    "## Question 23\n",
    "\n",
    "Develop a recursive function tough() that takes two nonnegative integer arguments and outputs a pattern as shown below. Hint: The first argument represents the indentation of the pattern, where the second argument -- always a pattern of 2 indicates the number *s in the longest line of *s in the pattern"
   ]
  },
  {
   "cell_type": "code",
   "execution_count": 25,
   "id": "6e6c6fa9",
   "metadata": {},
   "outputs": [
    {
     "name": "stdout",
     "output_type": "stream",
     "text": [
      "First\n",
      "Second\n",
      "*\n",
      "Third\n",
      "*\n",
      "**\n",
      " *\n",
      "Fourth\n",
      "*\n",
      "**\n",
      " *\n",
      "****\n",
      "  *\n",
      "  **\n",
      "   *\n"
     ]
    }
   ],
   "source": [
    "def print_line(indentation, stars):\n",
    "    print(' ' * indentation + '*' * stars)\n",
    "\n",
    "def tough(indentation, pattern):\n",
    "    if pattern > 0:\n",
    "        tough(indentation, pattern // 2)\n",
    "        print_line(indentation, pattern)\n",
    "        tough(indentation + pattern // 2, pattern // 2)\n",
    "\n",
    "# Example usage:\n",
    "print(\"First\")\n",
    "tough(0, 0)\n",
    "\n",
    "print(\"Second\")\n",
    "tough(0, 1)\n",
    "\n",
    "print(\"Third\")\n",
    "tough(0, 2)\n",
    "\n",
    "print(\"Fourth\")\n",
    "tough(0, 4)"
   ]
  },
  {
   "cell_type": "markdown",
   "id": "4e204ad8",
   "metadata": {},
   "source": []
  }
 ],
 "metadata": {
  "kernelspec": {
   "display_name": "Python 3 (ipykernel)",
   "language": "python",
   "name": "python3"
  },
  "language_info": {
   "codemirror_mode": {
    "name": "ipython",
    "version": 3
   },
   "file_extension": ".py",
   "mimetype": "text/x-python",
   "name": "python",
   "nbconvert_exporter": "python",
   "pygments_lexer": "ipython3",
   "version": "3.11.4"
  }
 },
 "nbformat": 4,
 "nbformat_minor": 5
}
